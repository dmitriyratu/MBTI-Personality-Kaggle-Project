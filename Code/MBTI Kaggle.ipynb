{
 "cells": [
  {
   "cell_type": "code",
   "execution_count": 440,
   "metadata": {},
   "outputs": [],
   "source": [
    "import pandas as pd, numpy as np, regex as re, sklearn as sk, matplotlib.pyplot as plt, urllib\n",
    "from urllib.parse import urlparse\n",
    "from sklearn.feature_extraction.text import CountVectorizer,TfidfTransformer\n",
    "from sklearn.cross_validation import train_test_split\n",
    "from sklearn.naive_bayes import MultinomialNB \n",
    "from sklearn.pipeline import Pipeline\n",
    "from sklearn.metrics import classification_report as score, confusion_matrix, accuracy_score\n",
    "import seaborn as sns; sns.set()\n",
    "from sklearn.model_selection import GridSearchCV\n",
    "import inspect"
   ]
  },
  {
   "cell_type": "code",
   "execution_count": 187,
   "metadata": {},
   "outputs": [],
   "source": [
    "# Import csv\n",
    "df_orig = pd.read_csv('C:/Users/dmitr/Documents/Work/Projects/Kaggle/MBTI/mbti.csv',header = 0)"
   ]
  },
  {
   "cell_type": "code",
   "execution_count": 188,
   "metadata": {},
   "outputs": [],
   "source": [
    "# Replace | with whitespace\n",
    "df_orig.posts = df_orig.posts.replace('\\|',' ',regex = True)"
   ]
  },
  {
   "cell_type": "code",
   "execution_count": 189,
   "metadata": {},
   "outputs": [],
   "source": [
    "# Replace unique URLs with generic URLs\n",
    "\n",
    "f1 = lambda arg: ' '.join([urlparse(x).netloc if any(s in x for s in ['http','www.']) else x for x in arg.split()])\n",
    "df_orig['posts2'] = df_orig['posts'].apply(f1)"
   ]
  },
  {
   "cell_type": "code",
   "execution_count": 190,
   "metadata": {},
   "outputs": [],
   "source": [
    "df_orig[['posts','posts2']] = df_orig[['posts','posts2']].replace('\\'','',regex = True)"
   ]
  },
  {
   "cell_type": "code",
   "execution_count": 191,
   "metadata": {},
   "outputs": [],
   "source": [
    "# Remove any extra white space\n",
    "\n",
    "df_orig = df_orig.apply(lambda x: x.str.replace(' +',' '), axis = 1)"
   ]
  },
  {
   "cell_type": "code",
   "execution_count": 192,
   "metadata": {},
   "outputs": [],
   "source": [
    "# Quantify differences of manipulated URLs vs unmanipulated URLs\n",
    "\n",
    "df_orig['len1'] = df_orig['posts'].str.len()\n",
    "df_orig['len2'] = df_orig['posts2'].str.len()\n",
    "df_orig['length_difference'] = df_orig['len1'] - df_orig['len2']"
   ]
  },
  {
   "cell_type": "code",
   "execution_count": 193,
   "metadata": {},
   "outputs": [],
   "source": [
    "# Confirm no unnecessary ommissions were made in data manipulations by identifying words in list 1 that do not exist in list 2\n",
    "\n",
    "df_orig['word_diff'] = df_orig.posts.map(str.split).map(set) - df_orig.posts2.map(str.split).map(set)\n",
    "df_orig['word_diff'] = df_orig['word_diff'].str.join(' ')"
   ]
  },
  {
   "cell_type": "code",
   "execution_count": 194,
   "metadata": {},
   "outputs": [],
   "source": [
    "# What words outside of URLs fell into our bucket accidentally?\n",
    "\n",
    "df_orig['word_diff2'] = df_orig['word_diff'].map(lambda x: ' '.join([i for i in x.split() if not any(x in i for x in ['http','www.'])]))"
   ]
  },
  {
   "cell_type": "code",
   "execution_count": 195,
   "metadata": {},
   "outputs": [
    {
     "name": "stdout",
     "output_type": "stream",
     "text": [
      "<class 'pandas.core.frame.DataFrame'>\n"
     ]
    },
    {
     "data": {
      "text/html": [
       "<div>\n",
       "<style scoped>\n",
       "    .dataframe tbody tr th:only-of-type {\n",
       "        vertical-align: middle;\n",
       "    }\n",
       "\n",
       "    .dataframe tbody tr th {\n",
       "        vertical-align: top;\n",
       "    }\n",
       "\n",
       "    .dataframe thead th {\n",
       "        text-align: right;\n",
       "    }\n",
       "</style>\n",
       "<table border=\"1\" class=\"dataframe\">\n",
       "  <thead>\n",
       "    <tr style=\"text-align: right;\">\n",
       "      <th></th>\n",
       "      <th>type</th>\n",
       "      <th>posts2</th>\n",
       "    </tr>\n",
       "  </thead>\n",
       "  <tbody>\n",
       "    <tr>\n",
       "      <th>0</th>\n",
       "      <td>INFJ</td>\n",
       "      <td>41 media tumblr com enfp and intj moments www...</td>\n",
       "    </tr>\n",
       "    <tr>\n",
       "      <th>1</th>\n",
       "      <td>ENTP</td>\n",
       "      <td>im finding the lack of me in these posts very ...</td>\n",
       "    </tr>\n",
       "    <tr>\n",
       "      <th>2</th>\n",
       "      <td>INTP</td>\n",
       "      <td>good one       www youtube com of course  to w...</td>\n",
       "    </tr>\n",
       "    <tr>\n",
       "      <th>3</th>\n",
       "      <td>INTJ</td>\n",
       "      <td>dear intp  i enjoyed our conversation the othe...</td>\n",
       "    </tr>\n",
       "    <tr>\n",
       "      <th>4</th>\n",
       "      <td>ENTJ</td>\n",
       "      <td>youre fired  thats another silly misconception...</td>\n",
       "    </tr>\n",
       "  </tbody>\n",
       "</table>\n",
       "</div>"
      ],
      "text/plain": [
       "   type                                             posts2\n",
       "0  INFJ   41 media tumblr com enfp and intj moments www...\n",
       "1  ENTP  im finding the lack of me in these posts very ...\n",
       "2  INTP  good one       www youtube com of course  to w...\n",
       "3  INTJ  dear intp  i enjoyed our conversation the othe...\n",
       "4  ENTJ  youre fired  thats another silly misconception..."
      ]
     },
     "execution_count": 195,
     "metadata": {},
     "output_type": "execute_result"
    }
   ],
   "source": [
    "# Remove all non alpabetic non numeric characters and lower case everything\n",
    "\n",
    "df_ref = df_orig[['type','posts2']].replace('[^a-zA-Z0-9 -]',' ',regex = True)\n",
    "df_ref['posts2'] = df_ref['posts2'].str.lower()\n",
    "print(type(df_ref))\n",
    "df_ref.head()"
   ]
  },
  {
   "cell_type": "code",
   "execution_count": 196,
   "metadata": {},
   "outputs": [
    {
     "name": "stdout",
     "output_type": "stream",
     "text": [
      "  type1 type2 type3 type4\n",
      "0     I     N     F     J\n",
      "1     E     N     T     P\n",
      "2     I     N     T     P\n",
      "3     I     N     T     J\n",
      "4     E     N     T     J\n"
     ]
    }
   ],
   "source": [
    "df_ref['type1'] = df_ref.type.str.slice(0,1)\n",
    "df_ref['type2'] = df_ref.type.str.slice(1,2)\n",
    "df_ref['type3'] = df_ref.type.str.slice(2,3)\n",
    "df_ref['type4'] = df_ref.type.str.slice(3,4)\n",
    "\n",
    "print(df_ref[['type1','type2','type3','type4']].head())"
   ]
  },
  {
   "cell_type": "code",
   "execution_count": 197,
   "metadata": {},
   "outputs": [
    {
     "name": "stdout",
     "output_type": "stream",
     "text": [
      "type\n",
      "ENFJ     190\n",
      "ENFP     675\n",
      "ENTJ     231\n",
      "ENTP     685\n",
      "ESFJ      42\n",
      "ESFP      48\n",
      "ESTJ      39\n",
      "ESTP      89\n",
      "INFJ    1470\n",
      "INFP    1832\n",
      "INTJ    1091\n",
      "INTP    1304\n",
      "ISFJ     166\n",
      "ISFP     271\n",
      "ISTJ     205\n",
      "ISTP     337\n",
      "Name: type, dtype: int64\n"
     ]
    },
    {
     "data": {
      "image/png": "[encoded data removed]",
      "text/plain": [
       "<matplotlib.figure.Figure at 0x182031f2278>"
      ]
     },
     "metadata": {},
     "output_type": "display_data"
    }
   ],
   "source": [
    "# Looks like we're dealing with many more introverts than extroverts, go figure introverts would end up undergoing MBTI and actively contributing content on the internet ;)\n",
    "# Interestingly enough the highest dist of extroverts are ENFPs which are known as the most introverted extroverts and ENTP which are very closely related in temperament to ENFPs \n",
    "df_ref.groupby('type')['type'].count().plot(kind = 'bar')\n",
    "plt.ylabel('Count')\n",
    "plt.xlabel('MBTI Type')\n",
    "print(df_ref.groupby('type')['type'].count())"
   ]
  },
  {
   "cell_type": "code",
   "execution_count": 198,
   "metadata": {},
   "outputs": [
    {
     "data": {
      "text/plain": [
       "<matplotlib.axes._subplots.AxesSubplot at 0x182724d8cc0>"
      ]
     },
     "execution_count": 198,
     "metadata": {},
     "output_type": "execute_result"
    },
    {
     "data": {
      "image/png": "[encoded data removed]",
      "text/plain": [
       "<matplotlib.figure.Figure at 0x18202d38208>"
      ]
     },
     "metadata": {},
     "output_type": "display_data"
    }
   ],
   "source": [
    "# Looks like we are dealing with mostly introverts and disproportionately intuitive type rather than Sensing type\n",
    "\n",
    "df_ref[['type1','type2','type3','type4']].melt().groupby(['variable','value'])['value'].count().plot(kind = 'bar')"
   ]
  },
  {
   "cell_type": "code",
   "execution_count": 199,
   "metadata": {},
   "outputs": [
    {
     "name": "stdout",
     "output_type": "stream",
     "text": [
      "(6940,) (6940, 5)\n"
     ]
    },
    {
     "data": {
      "text/plain": [
       "pandas.core.frame.DataFrame"
      ]
     },
     "execution_count": 199,
     "metadata": {},
     "output_type": "execute_result"
    }
   ],
   "source": [
    "# Split data into train and test\n",
    "\n",
    "x_train, x_test, y_train, y_test = train_test_split(df_ref['posts2'], df_ref[['type','type1','type2','type3','type4']], test_size = 0.2, random_state = 123)\n",
    "print(x_train.shape,y_train.shape)"
   ]
  },
  {
   "cell_type": "code",
   "execution_count": 573,
   "metadata": {
    "scrolled": true
   },
   "outputs": [],
   "source": [
    "# Pipeline the process\n",
    "\n",
    "text_clf = Pipeline(steps = [\n",
    "    ('vect', CountVectorizer(stop_words = 'english', ngram_range = (1, 2), min_df = 40)),\n",
    "    ('fit', TfidfTransformer(use_idf = False, norm = None)), #use_idf = False produces greqiencies instead inverse-document-frequency reweighting., None for no normalization.\n",
    "    ('clf', MultinomialNB()),    \n",
    "])"
   ]
  },
  {
   "cell_type": "code",
   "execution_count": 576,
   "metadata": {},
   "outputs": [],
   "source": [
    "# Grid search optimal parameters and predict\n",
    "\n",
    "parameters = {'vect__min_df':list(np.arange(30,50)),\n",
    "             }\n",
    "gs_clf = GridSearchCV(text_clf, parameters, n_jobs = -1)\n"
   ]
  },
  {
   "cell_type": "code",
   "execution_count": 575,
   "metadata": {},
   "outputs": [
    {
     "ename": "AttributeError",
     "evalue": "'GridSearchCV' object has no attribute 'best_params_'",
     "output_type": "error",
     "traceback": [
      "\u001b[1;31m---------------------------------------------------------------------------\u001b[0m",
      "\u001b[1;31mAttributeError\u001b[0m                            Traceback (most recent call last)",
      "\u001b[1;32m<ipython-input-575-5e76e2b518c5>\u001b[0m in \u001b[0;36m<module>\u001b[1;34m()\u001b[0m\n\u001b[0;32m      2\u001b[0m \u001b[1;33m\u001b[0m\u001b[0m\n\u001b[0;32m      3\u001b[0m \u001b[1;32mfor\u001b[0m \u001b[0mparam_name\u001b[0m \u001b[1;32min\u001b[0m \u001b[0msorted\u001b[0m\u001b[1;33m(\u001b[0m\u001b[0mparameters\u001b[0m\u001b[1;33m.\u001b[0m\u001b[0mkeys\u001b[0m\u001b[1;33m(\u001b[0m\u001b[1;33m)\u001b[0m\u001b[1;33m)\u001b[0m\u001b[1;33m:\u001b[0m\u001b[1;33m\u001b[0m\u001b[0m\n\u001b[1;32m----> 4\u001b[1;33m     \u001b[0mprint\u001b[0m\u001b[1;33m(\u001b[0m\u001b[1;34m\"%s: %r\"\u001b[0m \u001b[1;33m%\u001b[0m \u001b[1;33m(\u001b[0m\u001b[0mparam_name\u001b[0m\u001b[1;33m,\u001b[0m \u001b[0mgs_clf\u001b[0m\u001b[1;33m.\u001b[0m\u001b[0mbest_params_\u001b[0m\u001b[1;33m[\u001b[0m\u001b[0mparam_name\u001b[0m\u001b[1;33m]\u001b[0m\u001b[1;33m)\u001b[0m\u001b[1;33m)\u001b[0m\u001b[1;33m\u001b[0m\u001b[0m\n\u001b[0m\u001b[0;32m      5\u001b[0m \u001b[0mprint\u001b[0m\u001b[1;33m(\u001b[0m\u001b[0mgs_clf\u001b[0m\u001b[1;33m.\u001b[0m\u001b[0mbest_score_\u001b[0m\u001b[1;33m)\u001b[0m\u001b[1;33m\u001b[0m\u001b[0m\n",
      "\u001b[1;31mAttributeError\u001b[0m: 'GridSearchCV' object has no attribute 'best_params_'"
     ]
    }
   ],
   "source": [
    "# Predict and eExpress optimal Parameters\n",
    "predict = gs_clf.fit(x_train, y_train['type']).predict(x_test)\n",
    "\n",
    "for param_name in sorted(parameters.keys()):\n",
    "    print(\"%s: %r\" % (param_name, gs_clf.best_params_[param_name]))\n",
    "print(gs_clf.best_score_)"
   ]
  },
  {
   "cell_type": "code",
   "execution_count": 389,
   "metadata": {},
   "outputs": [
    {
     "name": "stdout",
     "output_type": "stream",
     "text": [
      "             precision    recall  f1-score   support\n",
      "\n",
      "       ESFP       0.00      0.00      0.00        11\n",
      "       ISTJ       0.74      0.36      0.48        39\n",
      "       INTJ       0.64      0.66      0.65       220\n",
      "       INTP       0.64      0.65      0.64       286\n",
      "       ENTP       0.45      0.59      0.51       132\n",
      "       ISFP       0.27      0.25      0.26        48\n",
      "       ISFJ       0.44      0.31      0.36        26\n",
      "       INFP       0.59      0.68      0.63       385\n",
      "       ENFP       0.54      0.61      0.57       153\n",
      "       ISTP       0.52      0.38      0.44        66\n",
      "       ENFJ       0.64      0.19      0.29        37\n",
      "       ESFJ       0.00      0.00      0.00         7\n",
      "       INFJ       0.63      0.61      0.62       253\n",
      "       ENTJ       0.46      0.38      0.42        50\n",
      "\n",
      "avg / total       0.58      0.58      0.57      1713\n",
      "\n",
      "0.577521613833\n"
     ]
    }
   ],
   "source": [
    "# Summarize accuracy \n",
    "\n",
    "actual = np.array(y_test['type'])\n",
    "print(score(actual, predict, labels = list(set(pred))))\n",
    "print(accuracy_score(actual, predict))"
   ]
  },
  {
   "cell_type": "code",
   "execution_count": 428,
   "metadata": {},
   "outputs": [],
   "source": [
    "# Vectorize using grid search parameters\n",
    "\n",
    "my_min_df = gs_clf.best_params_['vect__min_df']\n",
    "my_ngram_range = gs_clf.best_params_['vect__ngram_range']\n",
    "\n",
    "cv = CountVectorizer(min_df = my_min_df, stop_words = 'english', ngram_range  = my_ngram_range)\n",
    "a = cv.fit_transform(x_train).toarray()"
   ]
  },
  {
   "cell_type": "code",
   "execution_count": 429,
   "metadata": {
    "scrolled": true
   },
   "outputs": [
    {
     "name": "stdout",
     "output_type": "stream",
     "text": [
      "[[0 0 0 ..., 0 0 0]\n",
      " [0 0 0 ..., 0 0 0]\n",
      " [0 0 1 ..., 0 0 0]\n",
      " ..., \n",
      " [0 0 0 ..., 0 0 0]\n",
      " [0 0 0 ..., 0 0 0]\n",
      " [0 0 2 ..., 0 0 0]]\n"
     ]
    },
    {
     "data": {
      "text/plain": [
       "['think fits',\n",
       " 'think fun',\n",
       " 'think funny',\n",
       " 'think going',\n",
       " 'think good',\n",
       " 'think got',\n",
       " 'think great',\n",
       " 'think guys',\n",
       " 'think hard',\n",
       " 'think having']"
      ]
     },
     "execution_count": 429,
     "metadata": {},
     "output_type": "execute_result"
    }
   ],
   "source": [
    "print(a)\n",
    "cv.get_feature_names()[10000:10010]"
   ]
  },
  {
   "cell_type": "code",
   "execution_count": 430,
   "metadata": {},
   "outputs": [
    {
     "data": {
      "text/html": [
       "<div>\n",
       "<style scoped>\n",
       "    .dataframe tbody tr th:only-of-type {\n",
       "        vertical-align: middle;\n",
       "    }\n",
       "\n",
       "    .dataframe tbody tr th {\n",
       "        vertical-align: top;\n",
       "    }\n",
       "\n",
       "    .dataframe thead th {\n",
       "        text-align: right;\n",
       "    }\n",
       "</style>\n",
       "<table border=\"1\" class=\"dataframe\">\n",
       "  <thead>\n",
       "    <tr style=\"text-align: right;\">\n",
       "      <th></th>\n",
       "      <th>word_count</th>\n",
       "    </tr>\n",
       "    <tr>\n",
       "      <th>[word_index]</th>\n",
       "      <th></th>\n",
       "    </tr>\n",
       "  </thead>\n",
       "  <tbody>\n",
       "    <tr>\n",
       "      <th>0</th>\n",
       "      <td>158</td>\n",
       "    </tr>\n",
       "    <tr>\n",
       "      <th>1</th>\n",
       "      <td>235</td>\n",
       "    </tr>\n",
       "    <tr>\n",
       "      <th>2</th>\n",
       "      <td>2167</td>\n",
       "    </tr>\n",
       "    <tr>\n",
       "      <th>3</th>\n",
       "      <td>70</td>\n",
       "    </tr>\n",
       "    <tr>\n",
       "      <th>4</th>\n",
       "      <td>89</td>\n",
       "    </tr>\n",
       "  </tbody>\n",
       "</table>\n",
       "</div>"
      ],
      "text/plain": [
       "              word_count\n",
       "[word_index]            \n",
       "0                    158\n",
       "1                    235\n",
       "2                   2167\n",
       "3                     70\n",
       "4                     89"
      ]
     },
     "execution_count": 430,
     "metadata": {},
     "output_type": "execute_result"
    }
   ],
   "source": [
    "# Sum down every column of the matrix where fields are represented by words and the column's sum is representative \n",
    "# of word's prevalence within all documents\n",
    "\n",
    "a1 = pd.DataFrame(np.sum(a, axis = 0))\n",
    "a1.columns = ['word_count']\n",
    "a1.index.name = ['word_index']\n",
    "a1.head()"
   ]
  },
  {
   "cell_type": "code",
   "execution_count": 566,
   "metadata": {},
   "outputs": [
    {
     "data": {
      "text/html": [
       "<div>\n",
       "<style scoped>\n",
       "    .dataframe tbody tr th:only-of-type {\n",
       "        vertical-align: middle;\n",
       "    }\n",
       "\n",
       "    .dataframe tbody tr th {\n",
       "        vertical-align: top;\n",
       "    }\n",
       "\n",
       "    .dataframe thead th {\n",
       "        text-align: right;\n",
       "    }\n",
       "</style>\n",
       "<table border=\"1\" class=\"dataframe\">\n",
       "  <thead>\n",
       "    <tr style=\"text-align: right;\">\n",
       "      <th></th>\n",
       "      <th>word_count</th>\n",
       "    </tr>\n",
       "  </thead>\n",
       "  <tbody>\n",
       "    <tr>\n",
       "      <th>count</th>\n",
       "      <td>11415.000000</td>\n",
       "    </tr>\n",
       "    <tr>\n",
       "      <th>mean</th>\n",
       "      <td>360.798598</td>\n",
       "    </tr>\n",
       "    <tr>\n",
       "      <th>std</th>\n",
       "      <td>1536.885712</td>\n",
       "    </tr>\n",
       "    <tr>\n",
       "      <th>min</th>\n",
       "      <td>45.000000</td>\n",
       "    </tr>\n",
       "    <tr>\n",
       "      <th>25%</th>\n",
       "      <td>64.000000</td>\n",
       "    </tr>\n",
       "    <tr>\n",
       "      <th>50%</th>\n",
       "      <td>99.000000</td>\n",
       "    </tr>\n",
       "    <tr>\n",
       "      <th>75%</th>\n",
       "      <td>216.000000</td>\n",
       "    </tr>\n",
       "    <tr>\n",
       "      <th>max</th>\n",
       "      <td>64168.000000</td>\n",
       "    </tr>\n",
       "  </tbody>\n",
       "</table>\n",
       "</div>"
      ],
      "text/plain": [
       "         word_count\n",
       "count  11415.000000\n",
       "mean     360.798598\n",
       "std     1536.885712\n",
       "min       45.000000\n",
       "25%       64.000000\n",
       "50%       99.000000\n",
       "75%      216.000000\n",
       "max    64168.000000"
      ]
     },
     "execution_count": 566,
     "metadata": {},
     "output_type": "execute_result"
    }
   ],
   "source": [
    "# Properties of count of words given my parameters\n",
    "\n",
    "a1.describe()"
   ]
  },
  {
   "cell_type": "code",
   "execution_count": 567,
   "metadata": {},
   "outputs": [
    {
     "data": {
      "text/plain": [
       "[word_index]\n",
       "0        (99.0, 216.0]\n",
       "1      (216.0, 1609.6]\n",
       "2     (1609.6, 4828.8]\n",
       "3         (64.0, 99.0]\n",
       "4         (64.0, 99.0]\n",
       "5      (216.0, 1609.6]\n",
       "6      (216.0, 1609.6]\n",
       "7         (45.0, 64.0]\n",
       "8         (45.0, 64.0]\n",
       "9         (45.0, 64.0]\n",
       "10       (99.0, 216.0]\n",
       "11        (64.0, 99.0]\n",
       "12     (216.0, 1609.6]\n",
       "13     (216.0, 1609.6]\n",
       "14        (64.0, 99.0]\n",
       "Name: word_count, dtype: category\n",
       "Categories (7, interval[float64]): [(45.0, 64.0] < (64.0, 99.0] < (99.0, 216.0] < (216.0, 1609.6] < (1609.6, 4828.8] < (4828.8, 6438.4] < (6438.4, inf]]"
      ]
     },
     "execution_count": 567,
     "metadata": {},
     "output_type": "execute_result"
    }
   ],
   "source": [
    "# Seperate into bins for plot\n",
    "\n",
    "y1, y2, y3, y4, y5 = a1.describe().loc[['min','25%','50%','75%','max'],'word_count']\n",
    "\n",
    "binsv = [y1, y2, y3, y4, np.mean([y4,y5]) * .05, np.mean([y4,y5]) * .15, np.mean([y4,y5]) * .20, float(\"inf\")]\n",
    "a2 = pd.cut(a1.word_count, bins = binsv)\n",
    "\n",
    "a2.head(15)"
   ]
  },
  {
   "cell_type": "code",
   "execution_count": 568,
   "metadata": {},
   "outputs": [
    {
     "name": "stdout",
     "output_type": "stream",
     "text": [
      "                  quantity\n",
      "word_count                \n",
      "(45.0, 64.0]          2836\n",
      "(64.0, 99.0]          2828\n",
      "(99.0, 216.0]         2836\n",
      "(216.0, 1609.6]       2429\n",
      "(1609.6, 4828.8]       303\n"
     ]
    },
    {
     "data": {
      "text/plain": [
       "<matplotlib.text.Text at 0x18259f7ac18>"
      ]
     },
     "execution_count": 568,
     "metadata": {},
     "output_type": "execute_result"
    },
    {
     "data": {
      "image/png": "[encoded data removed]",
      "text/plain": [
       "<matplotlib.figure.Figure at 0x18207632470>"
      ]
     },
     "metadata": {},
     "output_type": "display_data"
    }
   ],
   "source": [
    "# Find frequencies with which counts of words occur and map them in intervals\n",
    "\n",
    "a3 = pd.DataFrame(a2.groupby(a2,).count())\n",
    "a3.columns = ['quantity']\n",
    "\n",
    "print(a3.head())\n",
    "\n",
    "a3.plot(kind = 'bar')\n",
    "plt.xlabel('Intervals')\n",
    "plt.ylabel('Count of Word Occurances')"
   ]
  },
  {
   "cell_type": "code",
   "execution_count": 555,
   "metadata": {},
   "outputs": [
    {
     "data": {
      "text/html": [
       "<div>\n",
       "<style scoped>\n",
       "    .dataframe tbody tr th:only-of-type {\n",
       "        vertical-align: middle;\n",
       "    }\n",
       "\n",
       "    .dataframe tbody tr th {\n",
       "        vertical-align: top;\n",
       "    }\n",
       "\n",
       "    .dataframe thead th {\n",
       "        text-align: right;\n",
       "    }\n",
       "</style>\n",
       "<table border=\"1\" class=\"dataframe\">\n",
       "  <thead>\n",
       "    <tr style=\"text-align: right;\">\n",
       "      <th></th>\n",
       "      <th>type</th>\n",
       "      <th>type1</th>\n",
       "      <th>type2</th>\n",
       "      <th>type3</th>\n",
       "      <th>type4</th>\n",
       "    </tr>\n",
       "  </thead>\n",
       "  <tbody>\n",
       "    <tr>\n",
       "      <th>1000</th>\n",
       "      <td>ISFJ</td>\n",
       "      <td>I</td>\n",
       "      <td>S</td>\n",
       "      <td>F</td>\n",
       "      <td>J</td>\n",
       "    </tr>\n",
       "    <tr>\n",
       "      <th>7574</th>\n",
       "      <td>ISFJ</td>\n",
       "      <td>I</td>\n",
       "      <td>S</td>\n",
       "      <td>F</td>\n",
       "      <td>J</td>\n",
       "    </tr>\n",
       "    <tr>\n",
       "      <th>995</th>\n",
       "      <td>ENFP</td>\n",
       "      <td>E</td>\n",
       "      <td>N</td>\n",
       "      <td>F</td>\n",
       "      <td>P</td>\n",
       "    </tr>\n",
       "    <tr>\n",
       "      <th>4410</th>\n",
       "      <td>INFJ</td>\n",
       "      <td>I</td>\n",
       "      <td>N</td>\n",
       "      <td>F</td>\n",
       "      <td>J</td>\n",
       "    </tr>\n",
       "    <tr>\n",
       "      <th>5294</th>\n",
       "      <td>ISTP</td>\n",
       "      <td>I</td>\n",
       "      <td>S</td>\n",
       "      <td>T</td>\n",
       "      <td>P</td>\n",
       "    </tr>\n",
       "    <tr>\n",
       "      <th>6710</th>\n",
       "      <td>ESFJ</td>\n",
       "      <td>E</td>\n",
       "      <td>S</td>\n",
       "      <td>F</td>\n",
       "      <td>J</td>\n",
       "    </tr>\n",
       "    <tr>\n",
       "      <th>1673</th>\n",
       "      <td>INTP</td>\n",
       "      <td>I</td>\n",
       "      <td>N</td>\n",
       "      <td>T</td>\n",
       "      <td>P</td>\n",
       "    </tr>\n",
       "    <tr>\n",
       "      <th>494</th>\n",
       "      <td>INTP</td>\n",
       "      <td>I</td>\n",
       "      <td>N</td>\n",
       "      <td>T</td>\n",
       "      <td>P</td>\n",
       "    </tr>\n",
       "    <tr>\n",
       "      <th>4673</th>\n",
       "      <td>INFJ</td>\n",
       "      <td>I</td>\n",
       "      <td>N</td>\n",
       "      <td>F</td>\n",
       "      <td>J</td>\n",
       "    </tr>\n",
       "    <tr>\n",
       "      <th>4551</th>\n",
       "      <td>INFJ</td>\n",
       "      <td>I</td>\n",
       "      <td>N</td>\n",
       "      <td>F</td>\n",
       "      <td>J</td>\n",
       "    </tr>\n",
       "  </tbody>\n",
       "</table>\n",
       "</div>"
      ],
      "text/plain": [
       "      type type1 type2 type3 type4\n",
       "1000  ISFJ     I     S     F     J\n",
       "7574  ISFJ     I     S     F     J\n",
       "995   ENFP     E     N     F     P\n",
       "4410  INFJ     I     N     F     J\n",
       "5294  ISTP     I     S     T     P\n",
       "6710  ESFJ     E     S     F     J\n",
       "1673  INTP     I     N     T     P\n",
       "494   INTP     I     N     T     P\n",
       "4673  INFJ     I     N     F     J\n",
       "4551  INFJ     I     N     F     J"
      ]
     },
     "execution_count": 555,
     "metadata": {},
     "output_type": "execute_result"
    }
   ],
   "source": [
    "y_train[:10]"
   ]
  },
  {
   "cell_type": "code",
   "execution_count": 569,
   "metadata": {
    "scrolled": false
   },
   "outputs": [
    {
     "data": {
      "text/html": [
       "<div>\n",
       "<style scoped>\n",
       "    .dataframe tbody tr th:only-of-type {\n",
       "        vertical-align: middle;\n",
       "    }\n",
       "\n",
       "    .dataframe tbody tr th {\n",
       "        vertical-align: top;\n",
       "    }\n",
       "\n",
       "    .dataframe thead th {\n",
       "        text-align: right;\n",
       "    }\n",
       "</style>\n",
       "<table border=\"1\" class=\"dataframe\">\n",
       "  <thead>\n",
       "    <tr style=\"text-align: right;\">\n",
       "      <th>Predicted</th>\n",
       "      <th>ENFJ</th>\n",
       "      <th>ENFP</th>\n",
       "      <th>ENTJ</th>\n",
       "      <th>ENTP</th>\n",
       "      <th>ESFJ</th>\n",
       "      <th>ESFP</th>\n",
       "      <th>INFJ</th>\n",
       "      <th>INFP</th>\n",
       "      <th>INTJ</th>\n",
       "      <th>INTP</th>\n",
       "      <th>ISFJ</th>\n",
       "      <th>ISFP</th>\n",
       "      <th>ISTJ</th>\n",
       "      <th>ISTP</th>\n",
       "      <th>All</th>\n",
       "    </tr>\n",
       "    <tr>\n",
       "      <th>Actual</th>\n",
       "      <th></th>\n",
       "      <th></th>\n",
       "      <th></th>\n",
       "      <th></th>\n",
       "      <th></th>\n",
       "      <th></th>\n",
       "      <th></th>\n",
       "      <th></th>\n",
       "      <th></th>\n",
       "      <th></th>\n",
       "      <th></th>\n",
       "      <th></th>\n",
       "      <th></th>\n",
       "      <th></th>\n",
       "      <th></th>\n",
       "    </tr>\n",
       "  </thead>\n",
       "  <tbody>\n",
       "    <tr>\n",
       "      <th>ENFJ</th>\n",
       "      <td>5</td>\n",
       "      <td>8</td>\n",
       "      <td>0</td>\n",
       "      <td>1</td>\n",
       "      <td>0</td>\n",
       "      <td>0</td>\n",
       "      <td>11</td>\n",
       "      <td>8</td>\n",
       "      <td>2</td>\n",
       "      <td>1</td>\n",
       "      <td>0</td>\n",
       "      <td>1</td>\n",
       "      <td>0</td>\n",
       "      <td>0</td>\n",
       "      <td>37</td>\n",
       "    </tr>\n",
       "    <tr>\n",
       "      <th>ENFP</th>\n",
       "      <td>0</td>\n",
       "      <td>89</td>\n",
       "      <td>1</td>\n",
       "      <td>9</td>\n",
       "      <td>1</td>\n",
       "      <td>1</td>\n",
       "      <td>14</td>\n",
       "      <td>29</td>\n",
       "      <td>4</td>\n",
       "      <td>4</td>\n",
       "      <td>0</td>\n",
       "      <td>1</td>\n",
       "      <td>0</td>\n",
       "      <td>0</td>\n",
       "      <td>153</td>\n",
       "    </tr>\n",
       "    <tr>\n",
       "      <th>ENTJ</th>\n",
       "      <td>1</td>\n",
       "      <td>4</td>\n",
       "      <td>13</td>\n",
       "      <td>7</td>\n",
       "      <td>0</td>\n",
       "      <td>0</td>\n",
       "      <td>1</td>\n",
       "      <td>2</td>\n",
       "      <td>12</td>\n",
       "      <td>9</td>\n",
       "      <td>0</td>\n",
       "      <td>0</td>\n",
       "      <td>0</td>\n",
       "      <td>1</td>\n",
       "      <td>50</td>\n",
       "    </tr>\n",
       "    <tr>\n",
       "      <th>ENTP</th>\n",
       "      <td>0</td>\n",
       "      <td>6</td>\n",
       "      <td>0</td>\n",
       "      <td>75</td>\n",
       "      <td>0</td>\n",
       "      <td>0</td>\n",
       "      <td>8</td>\n",
       "      <td>7</td>\n",
       "      <td>13</td>\n",
       "      <td>23</td>\n",
       "      <td>0</td>\n",
       "      <td>0</td>\n",
       "      <td>0</td>\n",
       "      <td>0</td>\n",
       "      <td>132</td>\n",
       "    </tr>\n",
       "    <tr>\n",
       "      <th>ESFJ</th>\n",
       "      <td>0</td>\n",
       "      <td>1</td>\n",
       "      <td>0</td>\n",
       "      <td>1</td>\n",
       "      <td>0</td>\n",
       "      <td>0</td>\n",
       "      <td>3</td>\n",
       "      <td>1</td>\n",
       "      <td>0</td>\n",
       "      <td>0</td>\n",
       "      <td>1</td>\n",
       "      <td>0</td>\n",
       "      <td>0</td>\n",
       "      <td>0</td>\n",
       "      <td>7</td>\n",
       "    </tr>\n",
       "    <tr>\n",
       "      <th>ESFP</th>\n",
       "      <td>0</td>\n",
       "      <td>2</td>\n",
       "      <td>0</td>\n",
       "      <td>3</td>\n",
       "      <td>0</td>\n",
       "      <td>0</td>\n",
       "      <td>1</td>\n",
       "      <td>2</td>\n",
       "      <td>1</td>\n",
       "      <td>1</td>\n",
       "      <td>0</td>\n",
       "      <td>1</td>\n",
       "      <td>0</td>\n",
       "      <td>0</td>\n",
       "      <td>11</td>\n",
       "    </tr>\n",
       "    <tr>\n",
       "      <th>ESTJ</th>\n",
       "      <td>0</td>\n",
       "      <td>1</td>\n",
       "      <td>0</td>\n",
       "      <td>0</td>\n",
       "      <td>0</td>\n",
       "      <td>0</td>\n",
       "      <td>0</td>\n",
       "      <td>1</td>\n",
       "      <td>2</td>\n",
       "      <td>1</td>\n",
       "      <td>0</td>\n",
       "      <td>0</td>\n",
       "      <td>0</td>\n",
       "      <td>0</td>\n",
       "      <td>5</td>\n",
       "    </tr>\n",
       "    <tr>\n",
       "      <th>ESTP</th>\n",
       "      <td>0</td>\n",
       "      <td>3</td>\n",
       "      <td>0</td>\n",
       "      <td>6</td>\n",
       "      <td>0</td>\n",
       "      <td>0</td>\n",
       "      <td>3</td>\n",
       "      <td>1</td>\n",
       "      <td>1</td>\n",
       "      <td>0</td>\n",
       "      <td>0</td>\n",
       "      <td>0</td>\n",
       "      <td>0</td>\n",
       "      <td>3</td>\n",
       "      <td>17</td>\n",
       "    </tr>\n",
       "    <tr>\n",
       "      <th>INFJ</th>\n",
       "      <td>1</td>\n",
       "      <td>2</td>\n",
       "      <td>1</td>\n",
       "      <td>12</td>\n",
       "      <td>1</td>\n",
       "      <td>0</td>\n",
       "      <td>158</td>\n",
       "      <td>55</td>\n",
       "      <td>11</td>\n",
       "      <td>8</td>\n",
       "      <td>1</td>\n",
       "      <td>3</td>\n",
       "      <td>0</td>\n",
       "      <td>0</td>\n",
       "      <td>253</td>\n",
       "    </tr>\n",
       "    <tr>\n",
       "      <th>INFP</th>\n",
       "      <td>2</td>\n",
       "      <td>21</td>\n",
       "      <td>2</td>\n",
       "      <td>15</td>\n",
       "      <td>0</td>\n",
       "      <td>0</td>\n",
       "      <td>26</td>\n",
       "      <td>272</td>\n",
       "      <td>13</td>\n",
       "      <td>19</td>\n",
       "      <td>1</td>\n",
       "      <td>9</td>\n",
       "      <td>1</td>\n",
       "      <td>4</td>\n",
       "      <td>385</td>\n",
       "    </tr>\n",
       "    <tr>\n",
       "      <th>INTJ</th>\n",
       "      <td>0</td>\n",
       "      <td>7</td>\n",
       "      <td>4</td>\n",
       "      <td>10</td>\n",
       "      <td>0</td>\n",
       "      <td>0</td>\n",
       "      <td>9</td>\n",
       "      <td>9</td>\n",
       "      <td>136</td>\n",
       "      <td>36</td>\n",
       "      <td>1</td>\n",
       "      <td>5</td>\n",
       "      <td>0</td>\n",
       "      <td>3</td>\n",
       "      <td>220</td>\n",
       "    </tr>\n",
       "    <tr>\n",
       "      <th>INTP</th>\n",
       "      <td>0</td>\n",
       "      <td>2</td>\n",
       "      <td>2</td>\n",
       "      <td>16</td>\n",
       "      <td>0</td>\n",
       "      <td>0</td>\n",
       "      <td>16</td>\n",
       "      <td>37</td>\n",
       "      <td>15</td>\n",
       "      <td>190</td>\n",
       "      <td>0</td>\n",
       "      <td>2</td>\n",
       "      <td>1</td>\n",
       "      <td>5</td>\n",
       "      <td>286</td>\n",
       "    </tr>\n",
       "    <tr>\n",
       "      <th>ISFJ</th>\n",
       "      <td>0</td>\n",
       "      <td>3</td>\n",
       "      <td>0</td>\n",
       "      <td>2</td>\n",
       "      <td>0</td>\n",
       "      <td>0</td>\n",
       "      <td>8</td>\n",
       "      <td>5</td>\n",
       "      <td>1</td>\n",
       "      <td>2</td>\n",
       "      <td>5</td>\n",
       "      <td>0</td>\n",
       "      <td>0</td>\n",
       "      <td>0</td>\n",
       "      <td>26</td>\n",
       "    </tr>\n",
       "    <tr>\n",
       "      <th>ISFP</th>\n",
       "      <td>0</td>\n",
       "      <td>5</td>\n",
       "      <td>0</td>\n",
       "      <td>2</td>\n",
       "      <td>0</td>\n",
       "      <td>0</td>\n",
       "      <td>4</td>\n",
       "      <td>20</td>\n",
       "      <td>2</td>\n",
       "      <td>2</td>\n",
       "      <td>2</td>\n",
       "      <td>10</td>\n",
       "      <td>0</td>\n",
       "      <td>1</td>\n",
       "      <td>48</td>\n",
       "    </tr>\n",
       "    <tr>\n",
       "      <th>ISTJ</th>\n",
       "      <td>0</td>\n",
       "      <td>2</td>\n",
       "      <td>0</td>\n",
       "      <td>2</td>\n",
       "      <td>0</td>\n",
       "      <td>0</td>\n",
       "      <td>2</td>\n",
       "      <td>8</td>\n",
       "      <td>8</td>\n",
       "      <td>3</td>\n",
       "      <td>2</td>\n",
       "      <td>1</td>\n",
       "      <td>10</td>\n",
       "      <td>1</td>\n",
       "      <td>39</td>\n",
       "    </tr>\n",
       "    <tr>\n",
       "      <th>ISTP</th>\n",
       "      <td>0</td>\n",
       "      <td>5</td>\n",
       "      <td>2</td>\n",
       "      <td>6</td>\n",
       "      <td>0</td>\n",
       "      <td>0</td>\n",
       "      <td>2</td>\n",
       "      <td>8</td>\n",
       "      <td>3</td>\n",
       "      <td>14</td>\n",
       "      <td>0</td>\n",
       "      <td>4</td>\n",
       "      <td>0</td>\n",
       "      <td>22</td>\n",
       "      <td>66</td>\n",
       "    </tr>\n",
       "    <tr>\n",
       "      <th>All</th>\n",
       "      <td>9</td>\n",
       "      <td>161</td>\n",
       "      <td>25</td>\n",
       "      <td>167</td>\n",
       "      <td>2</td>\n",
       "      <td>1</td>\n",
       "      <td>266</td>\n",
       "      <td>465</td>\n",
       "      <td>224</td>\n",
       "      <td>313</td>\n",
       "      <td>13</td>\n",
       "      <td>37</td>\n",
       "      <td>12</td>\n",
       "      <td>40</td>\n",
       "      <td>1735</td>\n",
       "    </tr>\n",
       "  </tbody>\n",
       "</table>\n",
       "</div>"
      ],
      "text/plain": [
       "Predicted  ENFJ  ENFP  ENTJ  ENTP  ESFJ  ESFP  INFJ  INFP  INTJ  INTP  ISFJ  \\\n",
       "Actual                                                                        \n",
       "ENFJ          5     8     0     1     0     0    11     8     2     1     0   \n",
       "ENFP          0    89     1     9     1     1    14    29     4     4     0   \n",
       "ENTJ          1     4    13     7     0     0     1     2    12     9     0   \n",
       "ENTP          0     6     0    75     0     0     8     7    13    23     0   \n",
       "ESFJ          0     1     0     1     0     0     3     1     0     0     1   \n",
       "ESFP          0     2     0     3     0     0     1     2     1     1     0   \n",
       "ESTJ          0     1     0     0     0     0     0     1     2     1     0   \n",
       "ESTP          0     3     0     6     0     0     3     1     1     0     0   \n",
       "INFJ          1     2     1    12     1     0   158    55    11     8     1   \n",
       "INFP          2    21     2    15     0     0    26   272    13    19     1   \n",
       "INTJ          0     7     4    10     0     0     9     9   136    36     1   \n",
       "INTP          0     2     2    16     0     0    16    37    15   190     0   \n",
       "ISFJ          0     3     0     2     0     0     8     5     1     2     5   \n",
       "ISFP          0     5     0     2     0     0     4    20     2     2     2   \n",
       "ISTJ          0     2     0     2     0     0     2     8     8     3     2   \n",
       "ISTP          0     5     2     6     0     0     2     8     3    14     0   \n",
       "All           9   161    25   167     2     1   266   465   224   313    13   \n",
       "\n",
       "Predicted  ISFP  ISTJ  ISTP   All  \n",
       "Actual                             \n",
       "ENFJ          1     0     0    37  \n",
       "ENFP          1     0     0   153  \n",
       "ENTJ          0     0     1    50  \n",
       "ENTP          0     0     0   132  \n",
       "ESFJ          0     0     0     7  \n",
       "ESFP          1     0     0    11  \n",
       "ESTJ          0     0     0     5  \n",
       "ESTP          0     0     3    17  \n",
       "INFJ          3     0     0   253  \n",
       "INFP          9     1     4   385  \n",
       "INTJ          5     0     3   220  \n",
       "INTP          2     1     5   286  \n",
       "ISFJ          0     0     0    26  \n",
       "ISFP         10     0     1    48  \n",
       "ISTJ          1    10     1    39  \n",
       "ISTP          4     0    22    66  \n",
       "All          37    12    40  1735  "
      ]
     },
     "execution_count": 569,
     "metadata": {},
     "output_type": "execute_result"
    }
   ],
   "source": [
    "# Create Confusion Matrix of Actual vs Predicted \n",
    "\n",
    "pd.crosstab(actual, pred, rownames=['Actual'], colnames=['Predicted'], margins=True)"
   ]
  },
  {
   "cell_type": "code",
   "execution_count": 558,
   "metadata": {},
   "outputs": [],
   "source": [
    "def myplt(x,y):\n",
    "    mat = confusion_matrix(actual, pred)\n",
    "    plt.figure(figsize = (16,7))\n",
    "    sns.heatmap(mat.T, square=True, annot=True, fmt='d', cbar=True,\n",
    "                xticklabels=x, yticklabels=y, linewidths=.5)\n",
    "    plt.xlabel('true label')\n",
    "    plt.ylabel('predicted label')\n"
   ]
  },
  {
   "cell_type": "code",
   "execution_count": 559,
   "metadata": {},
   "outputs": [
    {
     "data": {
      "image/png": "[encoded data removed]",
      "text/plain": [
       "<matplotlib.figure.Figure at 0x1822fef9a90>"
      ]
     },
     "metadata": {},
     "output_type": "display_data"
    }
   ],
   "source": [
    "myplt(set(df_orig.type),set(df_orig.type))"
   ]
  },
  {
   "cell_type": "code",
   "execution_count": 583,
   "metadata": {},
   "outputs": [
    {
     "name": "stdout",
     "output_type": "stream",
     "text": [
      "             precision    recall  f1-score   support\n",
      "\n",
      "          E       0.56      0.68      0.62       412\n",
      "          I       0.89      0.83      0.86      1323\n",
      "\n",
      "avg / total       0.82      0.80      0.80      1735\n",
      "\n"
     ]
    },
    {
     "data": {
      "text/plain": [
       "<matplotlib.text.Text at 0x1827e5eb470>"
      ]
     },
     "execution_count": 583,
     "metadata": {},
     "output_type": "execute_result"
    },
    {
     "data": {
      "image/png": "[encoded data removed]",
      "text/plain": [
       "<matplotlib.figure.Figure at 0x18259f204e0>"
      ]
     },
     "metadata": {},
     "output_type": "display_data"
    }
   ],
   "source": [
    "# Predict Introversion/Extroversion\n",
    "\n",
    "pred = text_clf.fit(x_train, y_train['type1']).predict(x_test)\n",
    "\n",
    "actual = np.array(y_test['type1'])\n",
    "print(score(actual, pred, labels = list(set(pred))))\n",
    "\n",
    "myplt(set(pred),set(pred))\n",
    "plt.title('Introversion/Extroversion')"
   ]
  },
  {
   "cell_type": "code",
   "execution_count": 584,
   "metadata": {},
   "outputs": [
    {
     "name": "stdout",
     "output_type": "stream",
     "text": [
      "             precision    recall  f1-score   support\n",
      "\n",
      "          S       0.51      0.63      0.57       219\n",
      "          N       0.95      0.91      0.93      1516\n",
      "\n",
      "avg / total       0.89      0.88      0.88      1735\n",
      "\n"
     ]
    },
    {
     "data": {
      "text/plain": [
       "<matplotlib.text.Text at 0x18273d7ac88>"
      ]
     },
     "execution_count": 584,
     "metadata": {},
     "output_type": "execute_result"
    },
    {
     "data": {
      "image/png": "[encoded data removed]",
      "text/plain": [
       "<matplotlib.figure.Figure at 0x1827183c6a0>"
      ]
     },
     "metadata": {},
     "output_type": "display_data"
    }
   ],
   "source": [
    "# Predict Sensing/Intuitive\n",
    "\n",
    "pred = text_clf.fit(x_train, y_train['type2']).predict(x_test)\n",
    "\n",
    "actual = np.array(y_test['type2'])\n",
    "print(score(actual, pred, labels = list(set(pred))))\n",
    "\n",
    "myplt(set(pred),set(pred))\n",
    "plt.title('Sensing/Intuitive')"
   ]
  },
  {
   "cell_type": "code",
   "execution_count": 585,
   "metadata": {},
   "outputs": [
    {
     "name": "stdout",
     "output_type": "stream",
     "text": [
      "             precision    recall  f1-score   support\n",
      "\n",
      "          F       0.86      0.83      0.85       920\n",
      "          T       0.82      0.85      0.84       815\n",
      "\n",
      "avg / total       0.84      0.84      0.84      1735\n",
      "\n"
     ]
    },
    {
     "data": {
      "text/plain": [
       "<matplotlib.text.Text at 0x18272331128>"
      ]
     },
     "execution_count": 585,
     "metadata": {},
     "output_type": "execute_result"
    },
    {
     "data": {
      "image/png": "[encoded data removed]",
      "text/plain": [
       "<matplotlib.figure.Figure at 0x18273870898>"
      ]
     },
     "metadata": {},
     "output_type": "display_data"
    }
   ],
   "source": [
    "# Predict Feeling/Thinking\n",
    "\n",
    "pred = text_clf.fit(x_train, y_train['type3']).predict(x_test)\n",
    "\n",
    "actual = np.array(y_test['type3'])\n",
    "print(score(actual, pred, labels = list(set(pred))))\n",
    "\n",
    "myplt(set(pred),set(pred))\n",
    "plt.title('Feeling/Thinking')"
   ]
  },
  {
   "cell_type": "code",
   "execution_count": 586,
   "metadata": {},
   "outputs": [
    {
     "name": "stdout",
     "output_type": "stream",
     "text": [
      "             precision    recall  f1-score   support\n",
      "\n",
      "          P       0.84      0.81      0.82      1098\n",
      "          J       0.69      0.73      0.71       637\n",
      "\n",
      "avg / total       0.78      0.78      0.78      1735\n",
      "\n"
     ]
    },
    {
     "data": {
      "text/plain": [
       "<matplotlib.text.Text at 0x18273c8ef28>"
      ]
     },
     "execution_count": 586,
     "metadata": {},
     "output_type": "execute_result"
    },
    {
     "data": {
      "image/png": "[encoded data removed]",
      "text/plain": [
       "<matplotlib.figure.Figure at 0x1827e26efd0>"
      ]
     },
     "metadata": {},
     "output_type": "display_data"
    }
   ],
   "source": [
    "# Predict Perceiving/Judging\n",
    "\n",
    "pred = text_clf.fit(x_train, y_train['type4']).predict(x_test)\n",
    "\n",
    "actual = np.array(y_test['type4'])\n",
    "print(score(actual, pred, labels = list(set(pred))))\n",
    "\n",
    "myplt(set(pred),set(pred))\n",
    "plt.title('Perceiving/Judging')"
   ]
  }
 ],
 "metadata": {
  "kernelspec": {
   "display_name": "Python 3",
   "language": "python",
   "name": "python3"
  },
  "language_info": {
   "codemirror_mode": {
    "name": "ipython",
    "version": 3
   },
   "file_extension": ".py",
   "mimetype": "text/x-python",
   "name": "python",
   "nbconvert_exporter": "python",
   "pygments_lexer": "ipython3",
   "version": "3.6.4"
  }
 },
 "nbformat": 4,
 "nbformat_minor": 2
}
